{
 "cells": [
  {
   "cell_type": "code",
   "execution_count": 52,
   "id": "bdb0c87d",
   "metadata": {},
   "outputs": [],
   "source": [
    "from qiskit_aer.noise import NoiseModel, thermal_relaxation_error, depolarizing_error, pauli_error,amplitude_damping_error\n",
    "from qiskit_aer.noise.errors import phase_amplitude_damping_error\n",
    "import numpy as np\n"
   ]
  },
  {
   "cell_type": "code",
   "execution_count": null,
   "id": "0b6b9db2",
   "metadata": {},
   "outputs": [],
   "source": []
  },
  {
   "cell_type": "code",
   "execution_count": 53,
   "id": "2c59897d",
   "metadata": {},
   "outputs": [
    {
     "name": "stderr",
     "output_type": "stream",
     "text": [
      "WARNING: all-qubit error already exists for instruction \"x\", composing with additional error.\n",
      "WARNING: all-qubit error already exists for instruction \"z\", composing with additional error.\n"
     ]
    }
   ],
   "source": [
    "noise_model = NoiseModel()\n",
    "\n",
    "# Add depolarizing error with 5% probability for all single qubit gates (u1, u2, u3)\n",
    "depol_error = depolarizing_error(0.05, 1)\n",
    "noise_model.add_all_qubit_quantum_error(depol_error, ['u1', 'u2', 'u3'])\n",
    "\n",
    "# Add thermal relaxation error (relaxation and dephasing model) ONLY to single-qubit gates\n",
    "thermal_error = thermal_relaxation_error(0.1, 0.1, 1)  # 10% error probability for relaxation and dephasing\n",
    "noise_model.add_all_qubit_quantum_error(thermal_error, ['h', 'x', 'z'])  # Apply to single qubit gates\n",
    "\n",
    "# Add depolarizing error to the 2-qubit gates (such as cx)\n",
    "depol_2qubit_error = depolarizing_error(0.05, 2)  # 5% depolarizing error on 2-qubit gates\n",
    "noise_model.add_all_qubit_quantum_error(depol_2qubit_error, ['cx'])\n",
    "\n",
    "# Add amplitude damping (relaxation error) to simulate energy loss for single-qubit gates\n",
    "amplitude_damping = amplitude_damping_error(0.1)  # 10% chance of relaxation\n",
    "noise_model.add_all_qubit_quantum_error(amplitude_damping, ['x', 'z'])\n"
   ]
  },
  {
   "cell_type": "code",
   "execution_count": 54,
   "id": "0e24d3b6",
   "metadata": {},
   "outputs": [],
   "source": [
    "# # Noise parameters\n",
    "# T1 = 100e3     # Relaxation time (us)\n",
    "# T2 = 80e3      # Dephasing time (us)\n",
    "# gate_time_1q = 50  # 1-qubit gate time\n",
    "# gate_time_2q = 200 # 2-qubit gate time\n",
    "# crosstalk_prob = 0.01\n",
    "\n",
    "# # Errors\n",
    "# thermal_error = phase_amplitude_damping_error(0.01, 0.01)\n",
    "# relaxation_error_1q = thermal_relaxation_error(T1, T2, gate_time_1q)\n",
    "# relaxation_error_2q = thermal_relaxation_error(T1, T2, gate_time_2q).tensor(\n",
    "#     thermal_relaxation_error(T1, T2, gate_time_2q))\n",
    "# crosstalk_error = depolarizing_error(crosstalk_prob, 2)\n",
    "\n",
    "\n",
    "# # Noise model\n",
    "# noise_model = NoiseModel()\n",
    "\n",
    "# # Apply to each qubit\n",
    "# for qubit in [0, 1, 2]:\n",
    "#     noise_model.add_quantum_error(relaxation_error_1q, ['rx', 'h', 'x', 'z'], [qubit])\n",
    "#     noise_model.add_quantum_error(thermal_error, ['rx', 'h'], [qubit])\n",
    "\n",
    "# # # Two-qubit gate errors\n",
    "# # noise_model.add_quantum_error(relaxation_error_2q, ['cx'], [0, 1])\n",
    "# # noise_model.add_quantum_error(crosstalk_error, ['cx'], [0, 1])\n"
   ]
  },
  {
   "cell_type": "code",
   "execution_count": 55,
   "id": "36e8741d",
   "metadata": {},
   "outputs": [
    {
     "data": {
      "image/png": "[encoded data removed]",
      "text/plain": [
       "<Figure size 640x480 with 1 Axes>"
      ]
     },
     "execution_count": 55,
     "metadata": {},
     "output_type": "execute_result"
    }
   ],
   "source": [
    "from qiskit import QuantumCircuit, QuantumRegister, ClassicalRegister\n",
    "from qiskit.circuit import Qubit, Clbit\n",
    "from utils.ibm_lab_util import build_qc\n",
    "\n",
    "\n",
    "qr = QuantumRegister(3, name=\"q\")\n",
    "cr = ClassicalRegister(3, name=\"c\")\n",
    "\n",
    "\n",
    "teleportation_circuit = build_qc(qr, cr)\n",
    "s, a, b = qr\n",
    "c0, c1, c2 = cr\n",
    "teleportation_circuit.measure(b, c2)\n",
    "teleportation_circuit.draw(\"mpl\")\n",
    "\n",
    "\n",
    "import math\n",
    "\n",
    "teleport_superposition_circuit: QuantumCircuit\n",
    "\n",
    "\n",
    "# Create a circuit that has the same structure as our teleportation circuit\n",
    "state_prep = QuantumCircuit(qr, cr)\n",
    "\n",
    "# Prepare the qubit\n",
    "state_prep.rx(math.pi / 4, s)\n",
    "\n",
    "# Put a barrier across all of the wires\n",
    "state_prep.barrier()\n",
    "# Add the teleportation circuit to the superposition circuit\n",
    "teleport_superposition_circuit = state_prep.compose(teleportation_circuit)\n",
    "\n",
    "teleport_superposition_circuit.draw(\"mpl\", cregbundle=False)\n",
    "\n",
    "# %%\n",
    "from qiskit import transpile\n",
    "from qiskit_aer import AerSimulator\n",
    "from qiskit.visualization import plot_histogram\n",
    "\n",
    "sim = AerSimulator()\n",
    "sim = AerSimulator(noise_model=noise_model)\n",
    "\n",
    "transpiled_circuit = transpile(teleport_superposition_circuit, sim)\n",
    "\n",
    "# run job\n",
    "shots = 1000\n",
    "job = sim.run(transpiled_circuit, shots=shots, dynamic=True)\n",
    "\n",
    "# Get the results and display them\n",
    "exp_result = job.result()\n",
    "exp_counts = exp_result.get_counts()\n",
    "plot_histogram(exp_counts)\n",
    "\n",
    "# %% [markdown]\n",
    "# Let's compute the distribution of just Bob's measurement by marginalizing over the other measured bits.\n",
    "\n",
    "# %%\n",
    "# trace out Bob's results on qubit 2\n",
    "from qiskit.result import marginal_counts\n",
    "\n",
    "bobs_counts = marginal_counts(exp_counts, [qr.index(b)])\n",
    "plot_histogram(bobs_counts)\n",
    "\n"
   ]
  },
  {
   "cell_type": "code",
   "execution_count": null,
   "id": "61cc3d6a",
   "metadata": {},
   "outputs": [],
   "source": []
  },
  {
   "cell_type": "code",
   "execution_count": 56,
   "id": "511ed8fe",
   "metadata": {},
   "outputs": [],
   "source": [
    "qc_ideal = QuantumCircuit(qr, cr)"
   ]
  },
  {
   "cell_type": "code",
   "execution_count": 57,
   "id": "a4ac0fa0",
   "metadata": {},
   "outputs": [
    {
     "name": "stdout",
     "output_type": "stream",
     "text": [
      "Quantum Fidelity: 1.0\n"
     ]
    }
   ],
   "source": [
    "from qiskit.quantum_info import state_fidelity, Statevector\n",
    "\n",
    "# Ideal (noiseless) simulation\n",
    "ideal_sim = AerSimulator()\n",
    "ideal_circ = transpile(qc_ideal, ideal_sim)\n",
    "ideal_result = ideal_sim.run(ideal_circ, shots=1, memory=True).result()\n",
    "ideal_sv = Statevector.from_instruction(qc_ideal)\n",
    "\n",
    "# Noisy simulation statevector (approximate)\n",
    "noisy_sv = Statevector.from_instruction(qc_ideal)\n",
    "\n",
    "# Compute fidelity\n",
    "fidelity = state_fidelity(ideal_sv, noisy_sv)\n",
    "print(\"Quantum Fidelity:\", fidelity)\n"
   ]
  },
  {
   "cell_type": "code",
   "execution_count": 58,
   "id": "dbc75e91",
   "metadata": {},
   "outputs": [
    {
     "name": "stdout",
     "output_type": "stream",
     "text": [
      "Quantum Latency (circuit depth): 9\n"
     ]
    }
   ],
   "source": [
    "latency = teleport_superposition_circuit.depth()\n",
    "print(\"Quantum Latency (circuit depth):\", latency)\n"
   ]
  },
  {
   "cell_type": "code",
   "execution_count": 59,
   "id": "9403cbf4",
   "metadata": {},
   "outputs": [
    {
     "name": "stdout",
     "output_type": "stream",
     "text": [
      "Quantum Throughput (qubits * shots / depth): 333.3333333333333\n"
     ]
    }
   ],
   "source": [
    "from qiskit.transpiler.passes import ResourceEstimation\n",
    "\n",
    "# Approximate throughput as qubits * shots / depth\n",
    "n_qubits = teleport_superposition_circuit.num_qubits\n",
    "throughput = (n_qubits * shots) / latency\n",
    "print(\"Quantum Throughput (qubits * shots / depth):\", throughput)\n"
   ]
  },
  {
   "cell_type": "code",
   "execution_count": 60,
   "id": "2e882dcb",
   "metadata": {},
   "outputs": [
    {
     "data": {
      "image/png": "[encoded data removed]",
      "text/plain": [
       "<Figure size 640x480 with 1 Axes>"
      ]
     },
     "execution_count": 60,
     "metadata": {},
     "output_type": "execute_result"
    }
   ],
   "source": [
    "from qiskit.result import marginal_counts\n",
    "\n",
    "bobs_counts = marginal_counts(exp_counts, [qr.index(b)])\n",
    "plot_histogram(bobs_counts)\n"
   ]
  },
  {
   "cell_type": "code",
   "execution_count": 61,
   "id": "3b6243b9",
   "metadata": {},
   "outputs": [
    {
     "name": "stdout",
     "output_type": "stream",
     "text": [
      "Quantum Fidelity: 1.0000\n",
      "Quantum Latency (sec): 0.0170\n",
      "Quantum Throughput (qubits/sec): 58823.67\n"
     ]
    }
   ],
   "source": [
    "from qiskit import transpile\n",
    "from qiskit_aer import AerSimulator\n",
    "from qiskit.quantum_info import state_fidelity\n",
    "from qiskit.visualization import plot_histogram\n",
    "\n",
    "# Step 1: Create simulators\n",
    "ideal_sim = AerSimulator(method=\"statevector\")\n",
    "noisy_sim = AerSimulator(noise_model=noise_model, method=\"statevector\")  # use your noise_model here\n",
    "\n",
    "# Step 2: Clone the circuit and add save_statevector\n",
    "ideal_circuit = teleport_superposition_circuit.copy()\n",
    "ideal_circuit.save_statevector()\n",
    "\n",
    "noisy_circuit = transpile(teleport_superposition_circuit, noisy_sim)\n",
    "noisy_circuit.save_statevector()\n",
    "\n",
    "\n",
    "# Step 3: Run ideal\n",
    "ideal_result = ideal_sim.run(ideal_circuit).result()\n",
    "ideal_sv = ideal_result.get_statevector()\n",
    "\n",
    "# Step 4: Run noisy\n",
    "noisy_result = noisy_sim.run(noisy_circuit).result()\n",
    "noisy_sv = noisy_result.get_statevector()\n",
    "\n",
    "fidelity = state_fidelity(ideal_sv, noisy_sv)\n",
    "print(f\"Quantum Fidelity: {fidelity:.4f}\")\n",
    "\n",
    "\n",
    "import time\n",
    "start = time.time()\n",
    "noisy_sim.run(noisy_circuit).result()\n",
    "end = time.time()\n",
    "latency = end - start\n",
    "print(f\"Quantum Latency (sec): {latency:.4f}\")\n",
    "\n",
    "\n",
    "shots = 1000\n",
    "throughput = shots / latency\n",
    "print(f\"Quantum Throughput (qubits/sec): {throughput:.2f}\")\n",
    "\n"
   ]
  }
 ],
 "metadata": {
  "kernelspec": {
   "display_name": "quantum",
   "language": "python",
   "name": "python3"
  },
  "language_info": {
   "codemirror_mode": {
    "name": "ipython",
    "version": 3
   },
   "file_extension": ".py",
   "mimetype": "text/x-python",
   "name": "python",
   "nbconvert_exporter": "python",
   "pygments_lexer": "ipython3",
   "version": "3.12.9"
  }
 },
 "nbformat": 4,
 "nbformat_minor": 5
}
